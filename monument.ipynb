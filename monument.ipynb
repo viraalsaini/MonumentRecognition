{
  "nbformat": 4,
  "nbformat_minor": 0,
  "metadata": {
    "colab": {
      "provenance": []
    },
    "kernelspec": {
      "name": "python3",
      "display_name": "Python 3"
    },
    "language_info": {
      "name": "python"
    }
  },
  "cells": [
    {
      "cell_type": "code",
      "source": [
        "import os\n",
        "import tensorflow as tf\n",
        "from tensorflow.keras.preprocessing import image_dataset_from_directory\n",
        "from tensorflow.keras.preprocessing.image import ImageDataGenerator\n",
        "from tensorflow.keras.applications import MobileNetV2\n",
        "from tensorflow.keras.layers import Dense, GlobalAveragePooling2D\n",
        "from tensorflow.keras.models import Model\n",
        "\n",
        "train_dir = \"/content/drive/MyDrive/monument/Monuments.v17i.tensorflow/train\"\n",
        "test_dir = \"/content/drive/MyDrive/monument/Monuments.v17i.tensorflow/test\"\n",
        "\n",
        "if not os.path.exists(train_dir):\n",
        "    raise FileNotFoundError(f\"❌ Train directory not found: {train_dir}\")\n",
        "if not os.path.exists(test_dir):\n",
        "    raise FileNotFoundError(f\"❌ Test directory not found: {test_dir}\")\n",
        "\n",
        "IMG_SIZE = (224, 224)\n",
        "BATCH_SIZE = 32\n",
        "\n",
        "train_datagen = ImageDataGenerator(\n",
        "    rescale=1.0/255,\n",
        "    rotation_range=20,\n",
        "    zoom_range=0.2,\n",
        "    width_shift_range=0.2,\n",
        "    height_shift_range=0.2,\n",
        "    horizontal_flip=True,\n",
        "    brightness_range=[0.7, 1.3]\n",
        ")\n",
        "\n",
        "test_datagen = ImageDataGenerator(rescale=1.0/255)\n",
        "\n",
        "train_dataset = train_datagen.flow_from_directory(\n",
        "    train_dir, target_size=IMG_SIZE, batch_size=BATCH_SIZE, class_mode=\"sparse\", shuffle=True\n",
        ")\n",
        "\n",
        "test_dataset = test_datagen.flow_from_directory(\n",
        "    test_dir, target_size=IMG_SIZE, batch_size=BATCH_SIZE, class_mode=\"sparse\", shuffle=False\n",
        ")\n",
        "\n",
        "print(f\" Classes: {train_dataset.class_indices}\")\n",
        "\n",
        "base_model = MobileNetV2(weights=\"imagenet\", include_top=False, input_shape=(224, 224, 3))\n",
        "base_model.trainable = False\n",
        "\n",
        "x = base_model.output\n",
        "x = GlobalAveragePooling2D()(x)\n",
        "x = Dense(128, activation=\"relu\")(x)\n",
        "output_layer = Dense(len(train_dataset.class_indices), activation=\"softmax\")(x)\n",
        "\n",
        "model = Model(inputs=base_model.input, outputs=output_layer)\n",
        "model.compile(optimizer=\"adam\", loss=\"sparse_categorical_crossentropy\", metrics=[\"accuracy\"])\n",
        "\n",
        "EPOCHS = 15\n",
        "model.fit(train_dataset, validation_data=test_dataset, epochs=EPOCHS)\n",
        "\n",
        "model_path = \"/content/drive/MyDrive/monument/model/monument_model_mobilenetv2_aug.keras\"\n",
        "model.save(model_path)\n",
        "print(f\" Model saved at: {model_path}\")"
      ],
      "metadata": {
        "colab": {
          "base_uri": "https://localhost:8080/"
        },
        "id": "syk5G2bCkDFA",
        "outputId": "f713c7e2-c5c5-4e89-9d83-3fb1e8ec86e7"
      },
      "execution_count": null,
      "outputs": [
        {
          "output_type": "stream",
          "name": "stdout",
          "text": [
            "Found 716 images belonging to 17 classes.\n",
            "Found 69 images belonging to 17 classes.\n",
            " Classes: {'Agra Fort': 0, 'Agrasen Ki Baoli': 1, 'Gurudwara Bangla Sahib': 2, 'Humayu Tomb': 3, 'India gate': 4, 'Isa Khan Niyazi-s tomb': 5, 'Itmad-Ud-Daulah-s Tomb': 6, 'Jama Mashjid': 7, 'Jantar Mantar': 8, 'Lotus Temple': 9, 'Mutiny Memorial': 10, 'Qila-i-Kuhna mosque': 11, 'Qutub Minar': 12, 'Quwwat ul-Islam Mosque': 13, 'Rashtrapati Bhavan': 14, 'Red Fort': 15, 'Taj Mahal': 16}\n",
            "Downloading data from https://storage.googleapis.com/tensorflow/keras-applications/mobilenet_v2/mobilenet_v2_weights_tf_dim_ordering_tf_kernels_1.0_224_no_top.h5\n",
            "\u001b[1m9406464/9406464\u001b[0m \u001b[32m━━━━━━━━━━━━━━━━━━━━\u001b[0m\u001b[37m\u001b[0m \u001b[1m0s\u001b[0m 0us/step\n"
          ]
        },
        {
          "output_type": "stream",
          "name": "stderr",
          "text": [
            "/usr/local/lib/python3.11/dist-packages/keras/src/trainers/data_adapters/py_dataset_adapter.py:121: UserWarning: Your `PyDataset` class should call `super().__init__(**kwargs)` in its constructor. `**kwargs` can include `workers`, `use_multiprocessing`, `max_queue_size`. Do not pass these arguments to `fit()`, as they will be ignored.\n",
            "  self._warn_if_super_not_called()\n"
          ]
        },
        {
          "output_type": "stream",
          "name": "stdout",
          "text": [
            "Epoch 1/15\n",
            "\u001b[1m23/23\u001b[0m \u001b[32m━━━━━━━━━━━━━━━━━━━━\u001b[0m\u001b[37m\u001b[0m \u001b[1m311s\u001b[0m 13s/step - accuracy: 0.2652 - loss: 2.5197 - val_accuracy: 0.7246 - val_loss: 1.2060\n",
            "Epoch 2/15\n",
            "\u001b[1m23/23\u001b[0m \u001b[32m━━━━━━━━━━━━━━━━━━━━\u001b[0m\u001b[37m\u001b[0m \u001b[1m76s\u001b[0m 2s/step - accuracy: 0.7796 - loss: 0.9731 - val_accuracy: 0.8551 - val_loss: 0.5961\n",
            "Epoch 3/15\n",
            "\u001b[1m23/23\u001b[0m \u001b[32m━━━━━━━━━━━━━━━━━━━━\u001b[0m\u001b[37m\u001b[0m \u001b[1m79s\u001b[0m 2s/step - accuracy: 0.9048 - loss: 0.4672 - val_accuracy: 0.8841 - val_loss: 0.4679\n",
            "Epoch 4/15\n",
            "\u001b[1m23/23\u001b[0m \u001b[32m━━━━━━━━━━━━━━━━━━━━\u001b[0m\u001b[37m\u001b[0m \u001b[1m54s\u001b[0m 2s/step - accuracy: 0.9184 - loss: 0.3189 - val_accuracy: 0.8841 - val_loss: 0.4277\n",
            "Epoch 5/15\n",
            "\u001b[1m23/23\u001b[0m \u001b[32m━━━━━━━━━━━━━━━━━━━━\u001b[0m\u001b[37m\u001b[0m \u001b[1m52s\u001b[0m 2s/step - accuracy: 0.9465 - loss: 0.2429 - val_accuracy: 0.9420 - val_loss: 0.3013\n",
            "Epoch 6/15\n",
            "\u001b[1m23/23\u001b[0m \u001b[32m━━━━━━━━━━━━━━━━━━━━\u001b[0m\u001b[37m\u001b[0m \u001b[1m55s\u001b[0m 2s/step - accuracy: 0.9589 - loss: 0.1939 - val_accuracy: 0.9130 - val_loss: 0.3111\n",
            "Epoch 7/15\n",
            "\u001b[1m23/23\u001b[0m \u001b[32m━━━━━━━━━━━━━━━━━━━━\u001b[0m\u001b[37m\u001b[0m \u001b[1m53s\u001b[0m 2s/step - accuracy: 0.9584 - loss: 0.1745 - val_accuracy: 0.9275 - val_loss: 0.2977\n",
            "Epoch 8/15\n",
            "\u001b[1m23/23\u001b[0m \u001b[32m━━━━━━━━━━━━━━━━━━━━\u001b[0m\u001b[37m\u001b[0m \u001b[1m78s\u001b[0m 2s/step - accuracy: 0.9787 - loss: 0.0991 - val_accuracy: 0.9420 - val_loss: 0.2528\n",
            "Epoch 9/15\n",
            "\u001b[1m23/23\u001b[0m \u001b[32m━━━━━━━━━━━━━━━━━━━━\u001b[0m\u001b[37m\u001b[0m \u001b[1m53s\u001b[0m 2s/step - accuracy: 0.9755 - loss: 0.0945 - val_accuracy: 0.9275 - val_loss: 0.2693\n",
            "Epoch 10/15\n",
            "\u001b[1m23/23\u001b[0m \u001b[32m━━━━━━━━━━━━━━━━━━━━\u001b[0m\u001b[37m\u001b[0m \u001b[1m81s\u001b[0m 2s/step - accuracy: 0.9856 - loss: 0.0718 - val_accuracy: 0.9565 - val_loss: 0.2210\n",
            "Epoch 11/15\n",
            "\u001b[1m23/23\u001b[0m \u001b[32m━━━━━━━━━━━━━━━━━━━━\u001b[0m\u001b[37m\u001b[0m \u001b[1m81s\u001b[0m 2s/step - accuracy: 0.9863 - loss: 0.0862 - val_accuracy: 0.9420 - val_loss: 0.2407\n",
            "Epoch 12/15\n",
            "\u001b[1m23/23\u001b[0m \u001b[32m━━━━━━━━━━━━━━━━━━━━\u001b[0m\u001b[37m\u001b[0m \u001b[1m66s\u001b[0m 3s/step - accuracy: 0.9762 - loss: 0.0844 - val_accuracy: 0.9420 - val_loss: 0.2371\n",
            "Epoch 13/15\n",
            "\u001b[1m23/23\u001b[0m \u001b[32m━━━━━━━━━━━━━━━━━━━━\u001b[0m\u001b[37m\u001b[0m \u001b[1m69s\u001b[0m 2s/step - accuracy: 0.9862 - loss: 0.0652 - val_accuracy: 0.9420 - val_loss: 0.2646\n",
            "Epoch 14/15\n",
            "\u001b[1m23/23\u001b[0m \u001b[32m━━━━━━━━━━━━━━━━━━━━\u001b[0m\u001b[37m\u001b[0m \u001b[1m56s\u001b[0m 2s/step - accuracy: 0.9948 - loss: 0.0417 - val_accuracy: 0.9420 - val_loss: 0.2229\n",
            "Epoch 15/15\n",
            "\u001b[1m23/23\u001b[0m \u001b[32m━━━━━━━━━━━━━━━━━━━━\u001b[0m\u001b[37m\u001b[0m \u001b[1m54s\u001b[0m 2s/step - accuracy: 0.9951 - loss: 0.0416 - val_accuracy: 0.9420 - val_loss: 0.2335\n",
            " Model saved at: /content/drive/MyDrive/monument/model/monument_model_mobilenetv2_aug.keras\n"
          ]
        }
      ]
    },
    {
      "cell_type": "code",
      "source": [
        "import numpy as np\n",
        "from tensorflow.keras.preprocessing import image\n",
        "from tensorflow.keras.models import load_model\n",
        "\n",
        "model_path = \"/content/drive/MyDrive/monument/model/monument_model_mobilenetv2_aug.keras\"\n",
        "model = load_model(model_path)\n",
        "\n",
        "class_labels = ['Agra Fort', 'Agrasen Ki Baoli', 'Gurudwara Bangla Sahib', 'Humayu Tomb', 'India gate',\n",
        "                'Isa Khan Niyazi-s tomb', 'Itmad-Ud-Daulah-s Tomb', 'Jama Mashjid', 'Jantar Mantar',\n",
        "                'Lotus Temple', 'Mutiny Memorial', 'Qila-i-Kuhna mosque', 'Qutub Minar',\n",
        "                'Quwwat ul-Islam Mosque', 'Rashtrapati Bhavan', 'Red Fort', 'Taj Mahal']\n",
        "\n",
        "img_path = \"/content/Agrasen-Ki-Baoli-Haunted-12-1024x682.jpg\"\n",
        "img = image.load_img(img_path, target_size=(224, 224))\n",
        "img_array = image.img_to_array(img) / 255.0\n",
        "img_array = np.expand_dims(img_array, axis=0)\n",
        "\n",
        "pred = model.predict(img_array)\n",
        "pred_class = np.argmax(pred)\n",
        "pred_label = class_labels[pred_class]\n",
        "\n",
        "print(f\" Predicted Class: {pred_label}\")\n"
      ],
      "metadata": {
        "colab": {
          "base_uri": "https://localhost:8080/"
        },
        "id": "VCMnVkR439TH",
        "outputId": "2430e0c4-c2a8-440c-fdf1-fbcc4369ff90"
      },
      "execution_count": null,
      "outputs": [
        {
          "output_type": "stream",
          "name": "stdout",
          "text": [
            "\u001b[1m1/1\u001b[0m \u001b[32m━━━━━━━━━━━━━━━━━━━━\u001b[0m\u001b[37m\u001b[0m \u001b[1m2s\u001b[0m 2s/step\n",
            " Predicted Class: Agrasen Ki Baoli\n"
          ]
        }
      ]
    }
  ]
}